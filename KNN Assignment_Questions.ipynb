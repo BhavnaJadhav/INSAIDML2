{
  "nbformat": 4,
  "nbformat_minor": 0,
  "metadata": {
    "kernelspec": {
      "display_name": "Python 3",
      "language": "python",
      "name": "python3"
    },
    "language_info": {
      "codemirror_mode": {
        "name": "ipython",
        "version": 3
      },
      "file_extension": ".py",
      "mimetype": "text/x-python",
      "name": "python",
      "nbconvert_exporter": "python",
      "pygments_lexer": "ipython3",
      "version": "3.6.5"
    },
    "colab": {
      "name": "KNN Assignment_Questions.ipynb",
      "provenance": [],
      "collapsed_sections": [],
      "include_colab_link": true
    }
  },
  "cells": [
    {
      "cell_type": "markdown",
      "metadata": {
        "id": "view-in-github",
        "colab_type": "text"
      },
      "source": [
        "<a href=\"https://colab.research.google.com/github/BhavnaJadhav/INSAIDML2/blob/main/KNN%20Assignment_Questions.ipynb\" target=\"_parent\"><img src=\"https://colab.research.google.com/assets/colab-badge.svg\" alt=\"Open In Colab\"/></a>"
      ]
    },
    {
      "cell_type": "markdown",
      "metadata": {
        "id": "XWEGUhtrbNJO"
      },
      "source": [
        "<center><img src=\"https://github.com/insaid2018/Term-1/blob/master/Images/INSAID_Full%20Logo.png?raw=true\" width=\"240\" height=\"110\" /></center>\n",
        "\n",
        "# KNN - Assignment"
      ]
    },
    {
      "cell_type": "markdown",
      "metadata": {
        "id": "-HURAYflbkrJ"
      },
      "source": [
        "## Diabetes Dataset"
      ]
    },
    {
      "cell_type": "markdown",
      "metadata": {
        "id": "f43w81J3bIEo"
      },
      "source": [
        "__Context__\n",
        "\n",
        "- This dataset is originally from the National Institute of Diabetes and Digestive and Kidney Diseases. <br/>\n",
        "\n",
        "- The objective of the dataset is to diagnostically **predict** whether or not a patient has **diabetes**, based on certain diagnostic measurements included in the dataset.\n",
        "\n",
        "- Several constraints were placed on the selection of these instances from a larger database.\n",
        "\n",
        "  - In particular, all patients here are **females** at least 21 years old of Pima Indian heritage.\n",
        "\n"
      ]
    },
    {
      "cell_type": "markdown",
      "metadata": {
        "id": "Lvz8NnFDWoxh"
      },
      "source": [
        "### Data Description\n",
        "\n",
        "- The datasets consists of several medical predictor variables and one target variable, `Outcome`.\n",
        "\n",
        "- Predictor variables includes the number of pregnancies the patient has had, their BMI, insulin level, age, and so on.\n",
        "\n",
        "<br> \n",
        "\n",
        "| **Column Name** | **Description** |\n",
        "|:---------------:|:---------------:|\n",
        "| **Pregnancies** | Number of times pregnant. |\n",
        "| **Glucose** | Plasma glucose concentration after 2 hours in an oral glucose tolerance test. |\n",
        "| **BloodPressure** | Diastolic blood pressure ($mm Hg$). |\n",
        "| **SkinThickness** | Triceps skin fold thickness ($mm$). |\n",
        "| **Insulin** | 2-Hour serum insulin ($mu U/ml$). |\n",
        "| **BMI** | Body mass index (weight in $kg/(height in m)^2$) |\n",
        "| **DiabetesPedigreeFunction** | Diabetes pedigree function. |\n",
        "| **Age** | Age (years). |\n",
        "| **Outcome** | Class variable (**0** or **1**). |"
      ]
    },
    {
      "cell_type": "markdown",
      "metadata": {
        "id": "A2rXIosIbNJQ"
      },
      "source": [
        "### Import the dataset"
      ]
    },
    {
      "cell_type": "code",
      "metadata": {
        "id": "hj8UmUJeU8tO"
      },
      "source": [
        "import pandas as pd\n",
        "diabetes = pd.read_csv('https://raw.githubusercontent.com/insaid2018/Term-3/master/Data/Assignment/diabetes.csv')\n",
        "diabetes.head()"
      ],
      "execution_count": null,
      "outputs": []
    },
    {
      "cell_type": "markdown",
      "metadata": {
        "id": "X0iSBHmhbNJV"
      },
      "source": [
        "### Check the shape of the dataset"
      ]
    },
    {
      "cell_type": "code",
      "metadata": {
        "id": "r-NdDTW3ylAu"
      },
      "source": [
        "diabetes.shape"
      ],
      "execution_count": null,
      "outputs": []
    },
    {
      "cell_type": "markdown",
      "metadata": {
        "id": "Vz2zGLBYbNJa"
      },
      "source": [
        "### Check the columns present in the dataset"
      ]
    },
    {
      "cell_type": "code",
      "metadata": {
        "id": "fzrXmgB6yrnK"
      },
      "source": [
        "diabetes.columns"
      ],
      "execution_count": null,
      "outputs": []
    },
    {
      "cell_type": "markdown",
      "metadata": {
        "id": "tTFd-9VybNJe"
      },
      "source": [
        "### Count of 0 and 1 from the diabetes variable."
      ]
    },
    {
      "cell_type": "code",
      "metadata": {
        "id": "Y6H-x7vhbNJf"
      },
      "source": [
        "diabetes.Outcome.value_counts()"
      ],
      "execution_count": null,
      "outputs": []
    },
    {
      "cell_type": "markdown",
      "metadata": {
        "id": "QTUSjGbYbNJi"
      },
      "source": [
        "### Check the descriptive statisticss of the dataset"
      ]
    },
    {
      "cell_type": "code",
      "metadata": {
        "id": "Z3PigGSHbNJj"
      },
      "source": [
        "diabetes.describe()"
      ],
      "execution_count": null,
      "outputs": []
    },
    {
      "cell_type": "markdown",
      "metadata": {
        "id": "PbP1xRE8bNJm"
      },
      "source": [
        "### Check the info of the dataset"
      ]
    },
    {
      "cell_type": "code",
      "metadata": {
        "id": "DSbTD3FhbNJn"
      },
      "source": [
        "diabetes.info()"
      ],
      "execution_count": null,
      "outputs": []
    },
    {
      "cell_type": "markdown",
      "metadata": {
        "id": "hsj-Pn4UbNJr"
      },
      "source": [
        "### Q 1. Write code to check the missing values present in the dataset. "
      ]
    },
    {
      "cell_type": "code",
      "metadata": {
        "id": "k1mE27ORbNJr"
      },
      "source": [
        "def generate():\n",
        "    return # your code to know if there is any missing value or not\n",
        "generate()"
      ],
      "execution_count": null,
      "outputs": []
    },
    {
      "cell_type": "markdown",
      "metadata": {
        "id": "2INLKIPVbNJw"
      },
      "source": [
        "### Q 2. Extract the dependent variables to create a dataframe X."
      ]
    },
    {
      "cell_type": "code",
      "metadata": {
        "id": "UZFfcqhVbNJw"
      },
      "source": [
        "X = pd.DataFrame()\n",
        "def generate():\n",
        "    # write your code to create a dataframe of dependent variables excluding 'Outcome' variable\n",
        "    return X\n",
        "X = generate()"
      ],
      "execution_count": null,
      "outputs": []
    },
    {
      "cell_type": "code",
      "metadata": {
        "id": "Mh4cluJ6bNJ0"
      },
      "source": [
        "X.head()"
      ],
      "execution_count": null,
      "outputs": []
    },
    {
      "cell_type": "markdown",
      "metadata": {
        "id": "KFrKfTUIbNJ3"
      },
      "source": [
        "### Q 3. Extract the independent variable into a dataframe 'y' for model prediction."
      ]
    },
    {
      "cell_type": "code",
      "metadata": {
        "id": "1PYZwhI5bNJ3"
      },
      "source": [
        "y = pd.DataFrame()\n",
        "def generate():\n",
        "    # write your code to create a dataframe which consists only of dependepent variable\n",
        "    return y\n",
        "y = generate()"
      ],
      "execution_count": null,
      "outputs": []
    },
    {
      "cell_type": "markdown",
      "metadata": {
        "id": "WTEKStKMbNJ8"
      },
      "source": [
        "### Q 4. Use StandardScaler to normalize X\n",
        "\n",
        "- **Return** the **standardized** value of **X** obtained after applying the `.transform()`"
      ]
    },
    {
      "cell_type": "code",
      "metadata": {
        "id": "40rDDHV7bNJ9"
      },
      "source": [
        "from sklearn.preprocessing import StandardScaler\n",
        "def generate():\n",
        "    # Your code here\n",
        "    return #standardized X\n",
        "X = generate()"
      ],
      "execution_count": null,
      "outputs": []
    },
    {
      "cell_type": "markdown",
      "metadata": {
        "id": "o2af4AlkbNKA"
      },
      "source": [
        "### Q 5. Split X and y into train and test dataset using random_state = 0 and test_size as 0.25."
      ]
    },
    {
      "cell_type": "code",
      "metadata": {
        "id": "8eulrIaBbNKA"
      },
      "source": [
        "from sklearn.model_selection import train_test_split\n",
        "def generate():\n",
        "    return # train test split using train_test_split of 75:25 and random state=0\n",
        "X_train, X_test, y_train, y_test = generate()"
      ],
      "execution_count": null,
      "outputs": []
    },
    {
      "cell_type": "markdown",
      "metadata": {
        "id": "1kL3ZpcybNKD"
      },
      "source": [
        "### Q 5.1 Check the shape of X and y of train dataset"
      ]
    },
    {
      "cell_type": "code",
      "metadata": {
        "id": "eXFcWwmcbNKE"
      },
      "source": [
        "def generate():\n",
        "    # your code here\n",
        "    return\n",
        "generate()"
      ],
      "execution_count": null,
      "outputs": []
    },
    {
      "cell_type": "markdown",
      "metadata": {
        "id": "SDtTHApMbNKH"
      },
      "source": [
        "### Q 5.2 Check the shape of X and y of test dataset"
      ]
    },
    {
      "cell_type": "code",
      "metadata": {
        "id": "B1IpNnbCbNKI"
      },
      "source": [
        "def generate():\n",
        "    # your code here\n",
        "    return\n",
        "generate()"
      ],
      "execution_count": null,
      "outputs": []
    },
    {
      "cell_type": "markdown",
      "metadata": {
        "id": "ukESsdu6bNKK"
      },
      "source": [
        "### Q 6. Create a KNN model instance with n_neighbors = 1 and fit this model to the training data."
      ]
    },
    {
      "cell_type": "code",
      "metadata": {
        "id": "h98rr3NTbNKL"
      },
      "source": [
        "from sklearn.neighbors import KNeighborsClassifier\n",
        "def generate():\n",
        "    #Your code here\n",
        "    return knn_model1\n",
        "knn_model1 = generate()"
      ],
      "execution_count": null,
      "outputs": []
    },
    {
      "cell_type": "markdown",
      "metadata": {
        "id": "Yziim6cbbNKO"
      },
      "source": [
        "### Q 7. Use RandomizedSearchCV  for hyperparameter tuning of your k nearest neighbor classifier.\n",
        "\n",
        "- Keep `n_iter` as **25**, `random_state` as **0**.\n",
        "\n",
        "- For the parameter range use the below ranges:\n",
        "\n",
        "  - `n_neighbors`: range(1, 30),                               \n",
        "\n",
        "  - `algorithm` : [\"auto\", \"ball_tree\"],\n",
        "  \n",
        "  - `leaf_size` :  2 ** np.arange(10),\n",
        "\n",
        "  - `metric` : [\"euclidean\", \"manhattan\", \"minkowski\", \"chebyshev\"]\n",
        "\n",
        "- **Return** the `RandomizedSearchCV` model at the end of the function."
      ]
    },
    {
      "cell_type": "code",
      "metadata": {
        "id": "oHeb1EAVbNKP"
      },
      "source": [
        "from sklearn.model_selection import RandomizedSearchCV\n",
        "from scipy.stats import randint as sp_randint\n",
        "import numpy as np\n",
        "\n",
        "def generate():\n",
        "    # your code here\n",
        "    \n",
        "    return # your variable for RandomizedSearchCV model\n",
        "\n",
        "knn_model2 = generate()\n",
        "knn_model2.fit(X_train,y_train)"
      ],
      "execution_count": null,
      "outputs": []
    },
    {
      "cell_type": "markdown",
      "metadata": {
        "id": "-UWDkecWbNKS"
      },
      "source": [
        "### Q 8.  To pick a good K Value create a for loop that trains various KNN models with different k values.\n",
        "\n",
        "  - Keep track of the **accuracy_score** for each of these models with a list `accuracy_list`.\n",
        "  \n",
        "  - Also print out the **maximum** value of **accuracy** and the **K** for which it occurs. "
      ]
    },
    {
      "cell_type": "code",
      "metadata": {
        "id": "Kcc_yXvObNKS"
      },
      "source": [
        "import numpy as np\n",
        "from sklearn.metrics import accuracy_score\n",
        "accuracy_list = []\n",
        "def generate():\n",
        "    # your code here\n",
        "    return\n",
        "generate()"
      ],
      "execution_count": null,
      "outputs": []
    },
    {
      "cell_type": "markdown",
      "metadata": {
        "id": "C8CqykpbbNKV"
      },
      "source": [
        "### Q 9.  Plot the accuracy values of model at various k values (saved in accuracy_list) and find the best value of k."
      ]
    },
    {
      "cell_type": "code",
      "metadata": {
        "id": "Cu8Z5DZ9bNKV"
      },
      "source": [
        "import matplotlib.pyplot as plt\n",
        "%matplotlib inline\n",
        "def generate():\n",
        "    # your code here\n",
        "    return\n",
        "generate()"
      ],
      "execution_count": null,
      "outputs": []
    },
    {
      "cell_type": "markdown",
      "metadata": {
        "id": "7Vf0qnhSbNKZ"
      },
      "source": [
        "### Q 10. Using the best value of k, create KNN model instance with n_neighbors = 5 and fit this model to the training data."
      ]
    },
    {
      "cell_type": "code",
      "metadata": {
        "id": "crq-wsecbNKZ"
      },
      "source": [
        "from sklearn.neighbors import KNeighborsClassifier\n",
        "def generate():\n",
        "    # your code here\n",
        "    return knn_model3\n",
        "knn_model3 = generate()"
      ],
      "execution_count": null,
      "outputs": []
    },
    {
      "cell_type": "markdown",
      "metadata": {
        "id": "BVPHITDkbNKc"
      },
      "source": [
        "### Q 11. Instantitate and fit Logistic Regression model using scikit-learn with random_state = 0"
      ]
    },
    {
      "cell_type": "code",
      "metadata": {
        "id": "itXmC_62bNKd"
      },
      "source": [
        "from sklearn.linear_model import LogisticRegression\n",
        "def generate():\n",
        "    # your code here\n",
        "    return logreg\n",
        "logreg = generate()"
      ],
      "execution_count": null,
      "outputs": []
    },
    {
      "cell_type": "markdown",
      "metadata": {
        "id": "nyaCZqFabNKf"
      },
      "source": [
        "### Q 12. Use the models for making predictions on the X_test\n",
        "\n",
        "- Make predictions using `knn_model1`, `knn_model2`, `knn_model3`, `knn_model4`, and `logreg` models.\n",
        "\n",
        "- Name the predictions based on model as: `predictions_knn_model1`, `predictions_knn_model2`, `predictions_knn_model3`, `predictions_logreg`"
      ]
    },
    {
      "cell_type": "code",
      "metadata": {
        "id": "HP4QVZd0bNKg"
      },
      "source": [
        "predictions_knn_model1 = pd.DataFrame()\n",
        "predictions_knn_model2 = pd.DataFrame()\n",
        "predictions_knn_model3 = pd.DataFrame()\n",
        "predictions_logreg = pd.DataFrame()\n",
        "def generate():\n",
        "    # your code here\n",
        "    return predictions_knn_model1, predictions_knn_model2, predictions_knn_model3, predictions_logreg\n",
        "\n",
        "predictions_knn_model1,predictions_knn_model2,predictions_knn_model3,predictions_logreg = generate()"
      ],
      "execution_count": null,
      "outputs": []
    },
    {
      "cell_type": "markdown",
      "metadata": {
        "id": "BggtznCHbNKj"
      },
      "source": [
        "### Q 13. Evaluate all the models with respect to y_test using accuracy score and print them out."
      ]
    },
    {
      "cell_type": "code",
      "metadata": {
        "id": "o0AhgpLRbNKk"
      },
      "source": [
        "from sklearn.metrics import accuracy_score\n",
        "def generate():\n",
        "    # your code here\n",
        "    return \n",
        "generate()"
      ],
      "execution_count": null,
      "outputs": []
    },
    {
      "cell_type": "markdown",
      "metadata": {
        "id": "98sOG1W4U8qB"
      },
      "source": [
        "### Q 14. Evaluate all the models with respect to y_test using confusion matrix and print them out."
      ]
    },
    {
      "cell_type": "code",
      "metadata": {
        "id": "Sm7EqIBB_BhK"
      },
      "source": [
        "from sklearn.metrics import confusion_matrix\n",
        "matrix_knn_model1 = pd.DataFrame()\n",
        "matrix_knn_model2 = pd.DataFrame()\n",
        "matrix_knn_model3 = pd.DataFrame()\n",
        "matrix_logreg = pd.DataFrame()\n",
        "def generate():\n",
        "    #your code here\n",
        "    return \n",
        "generate()"
      ],
      "execution_count": null,
      "outputs": []
    },
    {
      "cell_type": "markdown",
      "metadata": {
        "id": "Sad9R1WPbNKq"
      },
      "source": [
        "### Q 15. Evaluate all the models respect to y_test using classification report and print them out."
      ]
    },
    {
      "cell_type": "code",
      "metadata": {
        "id": "2AWeWzq-bNKq"
      },
      "source": [
        "from sklearn.metrics import classification_report\n",
        "def generate():\n",
        "    #your code here\n",
        "    return\n",
        "generate()"
      ],
      "execution_count": null,
      "outputs": []
    }
  ]
}